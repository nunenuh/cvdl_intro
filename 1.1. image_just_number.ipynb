{
 "cells": [
  {
   "cell_type": "markdown",
   "metadata": {},
   "source": [
    "# Introduction To Computer Vision with Deep Learning"
   ]
  },
  {
   "cell_type": "markdown",
   "metadata": {},
   "source": [
    "### Image is Just a Number\n",
    "Gambar di komputer hanyalah angka, lalu kenapa kita melihatnya berbeda? <br/>\n",
    "Angka tersebut di olah lagi untuk di tampilkan ke lcd melalui graphic card ke LCD/LED monitor sehingga terlihat sebagai gambar yang manusia mengerti. Tapi bagi komputer semua itu hanya angka.\n",
    "\n",
    "#### Mari kita buktikan!"
   ]
  },
  {
   "cell_type": "code",
   "execution_count": 15,
   "metadata": {},
   "outputs": [],
   "source": [
    "# ini biar semua langsung di tampilin di browser\n",
    "%matplotlib inline \n",
    "\n",
    "# panggil tukang visualisasi\n",
    "import matplotlib\n",
    "import matplotlib.pyplot as plt\n",
    "\n",
    "# panggil tukang hitung\n",
    "import numpy as np\n",
    "\n",
    "# panggil tukang olah gambar\n",
    "from skimage import io, color, feature, transform"
   ]
  },
  {
   "cell_type": "code",
   "execution_count": 4,
   "metadata": {},
   "outputs": [
    {
     "data": {
      "text/plain": [
       "<matplotlib.image.AxesImage at 0x7f18170306d8>"
      ]
     },
     "execution_count": 4,
     "metadata": {},
     "output_type": "execute_result"
    },
    {
     "data": {
      "image/png": "[encoded data removed]",
      "text/plain": [
       "<matplotlib.figure.Figure at 0x7f1829ab16a0>"
      ]
     },
     "metadata": {},
     "output_type": "display_data"
    }
   ],
   "source": [
    "img = io.imread('data/pin_small.png')\n",
    "plt.imshow(img, cmap='gray')"
   ]
  },
  {
   "cell_type": "code",
   "execution_count": 5,
   "metadata": {},
   "outputs": [
    {
     "data": {
      "text/plain": [
       "array([[[  0,   0,   0],\n",
       "        [  5,   5,   5],\n",
       "        [110, 107, 104],\n",
       "        ..., \n",
       "        [110, 107, 104],\n",
       "        [  5,   5,   5],\n",
       "        [  0,   0,   0]],\n",
       "\n",
       "       [[  5,   5,   5],\n",
       "        [170, 166, 160],\n",
       "        [227, 221, 213],\n",
       "        ..., \n",
       "        [227, 221, 213],\n",
       "        [170, 166, 160],\n",
       "        [  5,   5,   5]],\n",
       "\n",
       "       [[110, 107, 104],\n",
       "        [227, 221, 213],\n",
       "        [227, 221, 213],\n",
       "        ..., \n",
       "        [227, 221, 213],\n",
       "        [227, 221, 213],\n",
       "        [110, 107, 104]],\n",
       "\n",
       "       ..., \n",
       "       [[110, 107, 104],\n",
       "        [227, 221, 213],\n",
       "        [227, 221, 213],\n",
       "        ..., \n",
       "        [227, 221, 213],\n",
       "        [227, 221, 213],\n",
       "        [110, 107, 104]],\n",
       "\n",
       "       [[  5,   5,   5],\n",
       "        [170, 166, 160],\n",
       "        [227, 221, 213],\n",
       "        ..., \n",
       "        [227, 221, 213],\n",
       "        [170, 166, 160],\n",
       "        [  5,   5,   5]],\n",
       "\n",
       "       [[  0,   0,   0],\n",
       "        [  5,   5,   5],\n",
       "        [110, 107, 104],\n",
       "        ..., \n",
       "        [110, 107, 104],\n",
       "        [  5,   5,   5],\n",
       "        [  0,   0,   0]]], dtype=uint8)"
      ]
     },
     "execution_count": 5,
     "metadata": {},
     "output_type": "execute_result"
    }
   ],
   "source": [
    "img"
   ]
  },
  {
   "cell_type": "code",
   "execution_count": 6,
   "metadata": {},
   "outputs": [
    {
     "data": {
      "text/plain": [
       "numpy.ndarray"
      ]
     },
     "execution_count": 6,
     "metadata": {},
     "output_type": "execute_result"
    }
   ],
   "source": [
    "type(img)"
   ]
  },
  {
   "cell_type": "markdown",
   "metadata": {},
   "source": [
    "#### Okey, if its a number then we can create it, isn it?\n",
    "Lets create one!"
   ]
  },
  {
   "cell_type": "code",
   "execution_count": 7,
   "metadata": {},
   "outputs": [
    {
     "data": {
      "text/plain": [
       "<matplotlib.image.AxesImage at 0x7f1817023e80>"
      ]
     },
     "execution_count": 7,
     "metadata": {},
     "output_type": "execute_result"
    },
    {
     "data": {
      "image/png": "[encoded data removed]",
      "text/plain": [
       "<matplotlib.figure.Figure at 0x7f1817070208>"
      ]
     },
     "metadata": {},
     "output_type": "display_data"
    }
   ],
   "source": [
    "img2 = [\n",
    "    [1,0,1],\n",
    "    [0,1,0],\n",
    "    [1,0,1]\n",
    "]\n",
    "\n",
    "img2 = np.array(img2)\n",
    "plt.imshow(img2, cmap='gray')"
   ]
  },
  {
   "cell_type": "code",
   "execution_count": 8,
   "metadata": {},
   "outputs": [
    {
     "data": {
      "text/plain": [
       "<matplotlib.image.AxesImage at 0x7f1816f66898>"
      ]
     },
     "execution_count": 8,
     "metadata": {},
     "output_type": "execute_result"
    },
    {
     "data": {
      "image/png": "[encoded data removed]",
      "text/plain": [
       "<matplotlib.figure.Figure at 0x7f1817017d68>"
      ]
     },
     "metadata": {},
     "output_type": "display_data"
    }
   ],
   "source": [
    "img3 = [\n",
    "    [1,1,1,0],\n",
    "    [1,0,0,1],\n",
    "    [1,0,0,1],\n",
    "    [0,1,1,1]\n",
    "]\n",
    "\n",
    "plt.imshow(img3, cmap='gray')"
   ]
  },
  {
   "cell_type": "markdown",
   "metadata": {},
   "source": [
    "#### Bikin angka random untuk jadi gambar Yuk"
   ]
  },
  {
   "cell_type": "code",
   "execution_count": 9,
   "metadata": {},
   "outputs": [],
   "source": [
    "img4 = np.random.randint(255, size=(10, 10))"
   ]
  },
  {
   "cell_type": "code",
   "execution_count": 10,
   "metadata": {},
   "outputs": [
    {
     "data": {
      "text/plain": [
       "array([[158, 242,  87,  52, 110,  74, 137, 101,  26, 233],\n",
       "       [ 87,  71, 204,  87, 254,  59,  64, 129,  89, 121],\n",
       "       [211,  69, 139, 138, 172, 100,  74,  36, 204,  35],\n",
       "       [ 79,  80, 213, 244, 192,  68, 143,  39,   8, 153],\n",
       "       [ 21,  19, 158, 184,  18, 159, 128, 240, 100,  59],\n",
       "       [ 20,  46, 215, 157, 225,  75, 243,  16, 200,  63],\n",
       "       [215,  55, 206,  64, 234,   8, 193,  76, 172,  76],\n",
       "       [ 16,  25,   1,  88, 160, 235, 185, 198, 193, 223],\n",
       "       [237, 233, 130,  75, 185, 100, 172,  33, 116, 115],\n",
       "       [ 14,   5,  12,  50, 206,  14,  60, 118, 106, 103]])"
      ]
     },
     "execution_count": 10,
     "metadata": {},
     "output_type": "execute_result"
    }
   ],
   "source": [
    "img4"
   ]
  },
  {
   "cell_type": "code",
   "execution_count": 51,
   "metadata": {},
   "outputs": [
    {
     "data": {
      "text/plain": [
       "(10, 10)"
      ]
     },
     "execution_count": 51,
     "metadata": {},
     "output_type": "execute_result"
    }
   ],
   "source": [
    "img4.shape"
   ]
  },
  {
   "cell_type": "code",
   "execution_count": 11,
   "metadata": {},
   "outputs": [
    {
     "data": {
      "text/plain": [
       "<matplotlib.image.AxesImage at 0x7f1816f9ec18>"
      ]
     },
     "execution_count": 11,
     "metadata": {},
     "output_type": "execute_result"
    },
    {
     "data": {
      "image/png": "[encoded data removed]",
      "text/plain": [
       "<matplotlib.figure.Figure at 0x7f1817057940>"
      ]
     },
     "metadata": {},
     "output_type": "display_data"
    }
   ],
   "source": [
    "# gmana rupanya gambar ini?\n",
    "plt.imshow(img4, cmap='gray')"
   ]
  },
  {
   "cell_type": "code",
   "execution_count": 12,
   "metadata": {},
   "outputs": [
    {
     "data": {
      "text/plain": [
       "<matplotlib.image.AxesImage at 0x7f1816f56ac8>"
      ]
     },
     "execution_count": 12,
     "metadata": {},
     "output_type": "execute_result"
    },
    {
     "data": {
      "image/png": "[encoded data removed]",
      "text/plain": [
       "<matplotlib.figure.Figure at 0x7f1816f8bb00>"
      ]
     },
     "metadata": {},
     "output_type": "display_data"
    }
   ],
   "source": [
    "# maen - maen dah sama operasi matrix, > < =, np.mean, np.average, np.max, np.min\n",
    "# show1 = img4 == np.min(img4)\n",
    "# show2 = img4 == np.max(img4)\n",
    "\n",
    "show = img4 > 15\n",
    "plt.imshow(show, cmap='gray')"
   ]
  },
  {
   "cell_type": "code",
   "execution_count": 48,
   "metadata": {},
   "outputs": [
    {
     "data": {
      "text/plain": [
       "<matplotlib.image.AxesImage at 0x7f18169932b0>"
      ]
     },
     "execution_count": 48,
     "metadata": {},
     "output_type": "execute_result"
    },
    {
     "data": {
      "image/png": "[encoded data removed]",
      "text/plain": [
       "<matplotlib.figure.Figure at 0x7f1816a1c390>"
      ]
     },
     "metadata": {},
     "output_type": "display_data"
    }
   ],
   "source": [
    "# kalau gambar berwarna gmana (RGB)?\n",
    "warna = np.array([\n",
    "    [[255,0,0],[0,255,0],[0,0,255],[255,0,0],[0,255,0]],\n",
    "    [[0,255,0],[0,0,255],[255,0,0],[0,255,0],[0,0,255]],\n",
    "    [[0,0,255],[255,0,0],[0,255,0],[0,0,255],[255,0,0]],\n",
    "    [[0,255,0],[0,0,255],[255,0,0],[0,255,0],[0,0,255]],\n",
    "    [[0,0,255],[255,0,0],[0,255,0],[0,0,255],[255,0,0]],\n",
    "]).astype('uint8')\n",
    "\n",
    "plt.imshow(warna, cmap='gray')"
   ]
  },
  {
   "cell_type": "code",
   "execution_count": 49,
   "metadata": {},
   "outputs": [
    {
     "data": {
      "text/plain": [
       "(5, 5, 3)"
      ]
     },
     "execution_count": 49,
     "metadata": {},
     "output_type": "execute_result"
    }
   ],
   "source": [
    "warna.shape"
   ]
  },
  {
   "cell_type": "markdown",
   "metadata": {},
   "source": [
    "### Cobain Gambar Beneran Hayo.."
   ]
  },
  {
   "cell_type": "code",
   "execution_count": 52,
   "metadata": {},
   "outputs": [
    {
     "data": {
      "text/plain": [
       "<matplotlib.image.AxesImage at 0x7f18169467f0>"
      ]
     },
     "execution_count": 52,
     "metadata": {},
     "output_type": "execute_result"
    },
    {
     "data": {
      "image/png": "[encoded data removed]",
      "text/plain": [
       "<matplotlib.figure.Figure at 0x7f18169cbcc0>"
      ]
     },
     "metadata": {},
     "output_type": "display_data"
    }
   ],
   "source": [
    "google = io.imread('data/google-plus-logo.jpg')\n",
    "plt.imshow(google)"
   ]
  },
  {
   "cell_type": "code",
   "execution_count": 57,
   "metadata": {},
   "outputs": [
    {
     "data": {
      "text/plain": [
       "(14, 18, 3)"
      ]
     },
     "execution_count": 57,
     "metadata": {},
     "output_type": "execute_result"
    }
   ],
   "source": [
    "google = transform.rescale(image, 0.01, mode='reflect')\n",
    "google.shape"
   ]
  },
  {
   "cell_type": "code",
   "execution_count": 58,
   "metadata": {},
   "outputs": [
    {
     "data": {
      "text/plain": [
       "<matplotlib.image.AxesImage at 0x7f1816882390>"
      ]
     },
     "execution_count": 58,
     "metadata": {},
     "output_type": "execute_result"
    },
    {
     "data": {
      "image/png": "[encoded data removed]",
      "text/plain": [
       "<matplotlib.figure.Figure at 0x7f18169e9978>"
      ]
     },
     "metadata": {},
     "output_type": "display_data"
    }
   ],
   "source": [
    "plt.imshow(google)"
   ]
  },
  {
   "cell_type": "code",
   "execution_count": 65,
   "metadata": {},
   "outputs": [
    {
     "data": {
      "text/plain": [
       "<matplotlib.image.AxesImage at 0x7f181670cf60>"
      ]
     },
     "execution_count": 65,
     "metadata": {},
     "output_type": "execute_result"
    },
    {
     "data": {
      "image/png": "[encoded data removed]",
      "text/plain": [
       "<matplotlib.figure.Figure at 0x7f181673bac8>"
      ]
     },
     "metadata": {},
     "output_type": "display_data"
    }
   ],
   "source": [
    "# zoom in ke huruf G gmana?\n",
    "zoom = google[3:11,3:11]\n",
    "plt.imshow(zoom)"
   ]
  },
  {
   "cell_type": "code",
   "execution_count": 67,
   "metadata": {},
   "outputs": [
    {
     "data": {
      "text/plain": [
       "(8, 8, 3)"
      ]
     },
     "execution_count": 67,
     "metadata": {},
     "output_type": "execute_result"
    }
   ],
   "source": [
    "zoom.shape"
   ]
  },
  {
   "cell_type": "code",
   "execution_count": 68,
   "metadata": {},
   "outputs": [
    {
     "data": {
      "text/plain": [
       "<matplotlib.image.AxesImage at 0x7f18166c9898>"
      ]
     },
     "execution_count": 68,
     "metadata": {},
     "output_type": "execute_result"
    },
    {
     "data": {
      "image/png": "[encoded data removed]",
      "text/plain": [
       "<matplotlib.figure.Figure at 0x7f181671c2b0>"
      ]
     },
     "metadata": {},
     "output_type": "display_data"
    }
   ],
   "source": [
    "# ubah jadi grayscale donk\n",
    "zoom_gray = color.rgb2gray(zoom)\n",
    "plt.imshow(zoom_gray, cmap='gray')"
   ]
  },
  {
   "cell_type": "code",
   "execution_count": 83,
   "metadata": {},
   "outputs": [
    {
     "name": "stdout",
     "output_type": "stream",
     "text": [
      "[[ 10.  10.  10.  10.  10.  10.  10.  10.]\n",
      " [ 10.  10.  10.   9.   9.   9.  10.  10.]\n",
      " [ 10.  10.   9.  10.  10.  10.  10.  10.]\n",
      " [ 10.   9.  10.  10.   9.   9.   9.  10.]\n",
      " [ 10.   9.  10.  10.  10.  10.   9.  10.]\n",
      " [ 10.  10.   9.  10.  10.  10.   9.  10.]\n",
      " [ 10.  10.  10.   9.   9.   9.  10.  10.]\n",
      " [ 10.  10.  10.  10.  10.  10.  10.  10.]]\n"
     ]
    }
   ],
   "source": [
    "zoom_gray\n",
    "r = np.round(zoom_gray)\n",
    "print(10-r)"
   ]
  },
  {
   "cell_type": "code",
   "execution_count": 82,
   "metadata": {},
   "outputs": [
    {
     "data": {
      "text/plain": [
       "<matplotlib.image.AxesImage at 0x7f181652bb00>"
      ]
     },
     "execution_count": 82,
     "metadata": {},
     "output_type": "execute_result"
    },
    {
     "data": {
      "image/png": "[encoded data removed]",
      "text/plain": [
       "<matplotlib.figure.Figure at 0x7f18165dc208>"
      ]
     },
     "metadata": {},
     "output_type": "display_data"
    }
   ],
   "source": [
    "plt.imshow(10-r, cmap='gray')"
   ]
  },
  {
   "cell_type": "code",
   "execution_count": null,
   "metadata": {},
   "outputs": [],
   "source": []
  }
 ],
 "metadata": {
  "kernelspec": {
   "display_name": "Python [conda env:dlearn]",
   "language": "python",
   "name": "conda-env-dlearn-py"
  },
  "language_info": {
   "codemirror_mode": {
    "name": "ipython",
    "version": 3
   },
   "file_extension": ".py",
   "mimetype": "text/x-python",
   "name": "python",
   "nbconvert_exporter": "python",
   "pygments_lexer": "ipython3",
   "version": "3.5.4"
  }
 },
 "nbformat": 4,
 "nbformat_minor": 2
}
