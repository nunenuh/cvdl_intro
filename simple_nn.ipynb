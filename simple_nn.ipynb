{
 "cells": [
  {
   "cell_type": "markdown",
   "metadata": {},
   "source": [
    "# Simple Neural Network\n",
    "berikut ini adalah kasus sederhana pemodelan neuron dalam python"
   ]
  },
  {
   "cell_type": "markdown",
   "metadata": {},
   "source": [
    "### Lihat Neuron Yuk\n",
    "Gambar di bawah ini adalah koneksi dua neuron\n",
    "![title](data/synapse.png)\n",
    "\n",
    "### Modelnya Gmana?\n",
    "Gambar di bawah ini adalah model dari satu buah neuron dengan 3 synapse input dan satu ouput\n",
    "![title](data/neuron_model.png)\n",
    "\n",
    "\n",
    "### Kita mau nyobain apa ney?\n",
    "\n",
    "![title](data/truth_table.png)\n"
   ]
  },
  {
   "cell_type": "code",
   "execution_count": 46,
   "metadata": {},
   "outputs": [],
   "source": [
    "# numerical python\n",
    "import numpy as np"
   ]
  },
  {
   "cell_type": "code",
   "execution_count": 47,
   "metadata": {},
   "outputs": [],
   "source": [
    "# create data in python\n",
    "train_input = np.array([\n",
    "    [0, 0, 1], \n",
    "    [1, 1, 1], \n",
    "    [1, 0, 1], \n",
    "    [0, 1, 1]\n",
    "])\n",
    "\n",
    "train_output = np.array([\n",
    "    [0],\n",
    "    [1],\n",
    "    [1],\n",
    "    [0]\n",
    "])"
   ]
  },
  {
   "cell_type": "markdown",
   "metadata": {},
   "source": [
    "![title](data/truth_matrix.png)"
   ]
  },
  {
   "cell_type": "code",
   "execution_count": 32,
   "metadata": {},
   "outputs": [],
   "source": [
    "class NeuralNetwork():\n",
    "    def __init__(self, neuron_in, neuron_out):\n",
    "        np.random.seed(1)\n",
    "        self.neuron_model = (neuron_in, neuron_out)\n",
    "        self.synaptic_weights = 2 * np.random.random(self.neuron_model) - 1\n",
    "\n",
    "    def sigmoid(self, x, derivatives=False):\n",
    "        if derivatives==True: \n",
    "            # gradient sigmoid curve (confident check)\n",
    "            return x * (1 - x) \n",
    "        # S shape curve, normalizer 0 to 1 (activation neuron)\n",
    "        return 1 / (1 + np.exp(-x)) \n",
    "        \n",
    "    def train(self, train_input, train_output, iteration):\n",
    "        for iteration in range(0, iteration):\n",
    "            # Pass the training set through our neural network (a single neuron).\n",
    "            output = self.thinking(train_input)\n",
    "            # check the error between thinking and true answer\n",
    "            error = train_output - output\n",
    "            # learn from error, and changes what suppose to be\n",
    "            adjustment = np.dot(train_input.T, error * self.sigmoid(output, True))\n",
    "            # Adjust the weights.\n",
    "            self.synaptic_weights += adjustment\n",
    "\n",
    "    # The neural network thinks.\n",
    "    def thinking(self, inputs):\n",
    "        # Pass inputs through our neural network (our single neuron).\n",
    "        inp = np.dot(inputs, self.synaptic_weights)\n",
    "        return self.sigmoid(inp)"
   ]
  },
  {
   "cell_type": "code",
   "execution_count": 62,
   "metadata": {},
   "outputs": [
    {
     "data": {
      "text/plain": [
       "array([[-0.10421295],\n",
       "       [ 0.81719101],\n",
       "       [-0.4127717 ]])"
      ]
     },
     "execution_count": 62,
     "metadata": {},
     "output_type": "execute_result"
    }
   ],
   "source": [
    "# maksud rumus? \n",
    "2 * np.random.random((3, 1)) - 1"
   ]
  },
  {
   "cell_type": "code",
   "execution_count": 66,
   "metadata": {},
   "outputs": [
    {
     "name": "stdout",
     "output_type": "stream",
     "text": [
      "Bobot syanapse awal yang belum di training : \n",
      "[[-0.16595599]\n",
      " [ 0.44064899]\n",
      " [-0.99977125]]\n"
     ]
    }
   ],
   "source": [
    "# lets build neural network\n",
    "nn = NeuralNetwork(3,1)\n",
    "syn_awal = nn.synaptic_weights\n",
    "\n",
    "print(\"Bobot syanapse awal yang belum di training : \")\n",
    "print(syn_awal)"
   ]
  },
  {
   "cell_type": "code",
   "execution_count": 67,
   "metadata": {},
   "outputs": [
    {
     "data": {
      "text/plain": [
       "array([[0, 0, 1],\n",
       "       [1, 1, 1],\n",
       "       [1, 0, 1],\n",
       "       [0, 1, 1]])"
      ]
     },
     "execution_count": 67,
     "metadata": {},
     "output_type": "execute_result"
    }
   ],
   "source": [
    "# ingetin ulang inputnya\n",
    "train_input"
   ]
  },
  {
   "cell_type": "code",
   "execution_count": 68,
   "metadata": {},
   "outputs": [
    {
     "data": {
      "text/plain": [
       "array([[0],\n",
       "       [1],\n",
       "       [1],\n",
       "       [0]])"
      ]
     },
     "execution_count": 68,
     "metadata": {},
     "output_type": "execute_result"
    }
   ],
   "source": [
    "# ingetin  ulang outputnya\n",
    "train_output"
   ]
  },
  {
   "cell_type": "code",
   "execution_count": 74,
   "metadata": {},
   "outputs": [
    {
     "name": "stdout",
     "output_type": "stream",
     "text": [
      "Setelah belajar, bobot synapse nya berubah: \n",
      "[[ 12.28064028]\n",
      " [ -0.2042021 ]\n",
      " [ -5.93641954]]\n"
     ]
    }
   ],
   "source": [
    "# lets train the network\n",
    "nn.train(train_input, train_output, 10000)\n",
    "\n",
    "print (\"Setelah belajar, bobot synapse nya berubah: \")\n",
    "print (nn.synaptic_weights)"
   ]
  },
  {
   "cell_type": "code",
   "execution_count": 90,
   "metadata": {},
   "outputs": [
    {
     "name": "stdout",
     "output_type": "stream",
     "text": [
      "Hasil Mikir : [ 0.99824621]\n",
      "Pembulatan  : 1.0\n"
     ]
    }
   ],
   "source": [
    "# lets test it\n",
    "test = np.array([1, 0, 1])\n",
    "prediction = nn.thinking(test)\n",
    "print('Hasil Mikir :', prediction)\n",
    "\n",
    "#pembulatan\n",
    "print('Pembulatan  :', round(prediction[0]))"
   ]
  },
  {
   "cell_type": "code",
   "execution_count": null,
   "metadata": {},
   "outputs": [],
   "source": [
    "# test data yang lain, gmana kalau logika or\n",
    "train_input = np.array([\n",
    "    [0, 0, 1], \n",
    "    [1, 1, 1], \n",
    "    [1, 0, 1], \n",
    "    [0, 1, 1]\n",
    "])\n",
    "\n",
    "train_output = np.array([\n",
    "    [0],\n",
    "    [1],\n",
    "    [1],\n",
    "    [0]\n",
    "])"
   ]
  },
  {
   "cell_type": "code",
   "execution_count": null,
   "metadata": {},
   "outputs": [],
   "source": [
    "# source code idea\n",
    "# https://github.com/miloharper/simple-neural-network"
   ]
  }
 ],
 "metadata": {
  "kernelspec": {
   "display_name": "Python [conda env:dlearn]",
   "language": "python",
   "name": "conda-env-dlearn-py"
  },
  "language_info": {
   "codemirror_mode": {
    "name": "ipython",
    "version": 3
   },
   "file_extension": ".py",
   "mimetype": "text/x-python",
   "name": "python",
   "nbconvert_exporter": "python",
   "pygments_lexer": "ipython3",
   "version": "3.5.4"
  }
 },
 "nbformat": 4,
 "nbformat_minor": 2
}
